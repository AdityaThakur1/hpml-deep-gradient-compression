{
 "cells": [
  {
   "cell_type": "code",
   "execution_count": 2,
   "metadata": {},
   "outputs": [
    {
     "name": "stdout",
     "output_type": "stream",
     "text": [
      "Defaulting to user installation because normal site-packages is not writeable\n",
      "Requirement already satisfied: virtualenv in /share/apps/python/3.8.6/intel/lib/python3.8/site-packages (20.0.33)\n",
      "Requirement already satisfied: distlib<1,>=0.3.1 in /share/apps/python/3.8.6/intel/lib/python3.8/site-packages (from virtualenv) (0.3.1)\n",
      "Requirement already satisfied: appdirs<2,>=1.4.3 in /share/apps/python/3.8.6/intel/lib/python3.8/site-packages (from virtualenv) (1.4.4)\n",
      "Requirement already satisfied: six<2,>=1.9.0 in /share/apps/python/3.8.6/intel/lib/python3.8/site-packages (from virtualenv) (1.15.0)\n",
      "Requirement already satisfied: filelock<4,>=3.0.0 in /share/apps/python/3.8.6/intel/lib/python3.8/site-packages (from virtualenv) (3.0.12)\n",
      "\u001b[33mWARNING: You are using pip version 20.2.3; however, version 22.1 is available.\n",
      "You should consider upgrading via the '/share/apps/python/3.8.6/intel/bin/python -m pip install --upgrade pip' command.\u001b[0m\n"
     ]
    }
   ],
   "source": [
    "!pip install virtualenv"
   ]
  },
  {
   "cell_type": "code",
   "execution_count": null,
   "metadata": {},
   "outputs": [],
   "source": []
  }
 ],
 "metadata": {
  "kernelspec": {
   "display_name": "Python 3",
   "language": "python",
   "name": "python3"
  },
  "language_info": {
   "codemirror_mode": {
    "name": "ipython",
    "version": 3
   },
   "file_extension": ".py",
   "mimetype": "text/x-python",
   "name": "python",
   "nbconvert_exporter": "python",
   "pygments_lexer": "ipython3",
   "version": "3.8.6"
  }
 },
 "nbformat": 4,
 "nbformat_minor": 4
}
